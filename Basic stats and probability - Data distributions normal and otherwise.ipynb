{
 "cells": [
  {
   "cell_type": "code",
   "execution_count": 5,
   "metadata": {},
   "outputs": [],
   "source": [
    "import numpy as np\n",
    "import pandas as pd\n",
    "import matplotlib.pyplot as plt\n",
    "%matplotlib inline"
   ]
  },
  {
   "cell_type": "code",
   "execution_count": 16,
   "metadata": {},
   "outputs": [
    {
     "name": "stdout",
     "output_type": "stream",
     "text": [
      "33.852350626210466\n",
      "36.32226214821663\n"
     ]
    },
    {
     "data": {
      "image/png": "[encoded data removed]",
      "text/plain": [
       "<Figure size 432x288 with 1 Axes>"
      ]
     },
     "metadata": {
      "needs_background": "light"
     },
     "output_type": "display_data"
    }
   ],
   "source": [
    "distributionone = np.random.lognormal(mean=3.0, sigma=1.0, size=100)\n",
    "\n",
    "plt.hist(distributionone)\n",
    "\n",
    "plt.axvline(distributionone.mean(), color='b', linestyle='solid', linewidth=2)\n",
    "\n",
    "plt.axvline(distributionone.mean() + distributionone.std(), color='b', linestyle='dashed', linewidth=2)\n",
    "\n",
    "plt.axvline(distributionone.mean() - distributionone.std(), color='b', linestyle='dashed', linewidth=2)\n",
    "print(distributionone.mean())\n",
    "print(distributionone.std())\n",
    "\n",
    "plt.show()"
   ]
  },
  {
   "cell_type": "markdown",
   "metadata": {},
   "source": [
    "The mean and standard deviation for distributionone are listed above the graph. The data is very skewed."
   ]
  },
  {
   "cell_type": "code",
   "execution_count": 18,
   "metadata": {
    "scrolled": true
   },
   "outputs": [
    {
     "name": "stdout",
     "output_type": "stream",
     "text": [
      "0.5126659149908585\n",
      "0.2735522903731104\n"
     ]
    },
    {
     "data": {
      "image/png": "[encoded data removed]",
      "text/plain": [
       "<Figure size 432x288 with 1 Axes>"
      ]
     },
     "metadata": {
      "needs_background": "light"
     },
     "output_type": "display_data"
    }
   ],
   "source": [
    "distributiontwo = np.random.power(1, size=100)\n",
    "\n",
    "plt.hist(distributiontwo, color='green')\n",
    "\n",
    "plt.axvline(distributiontwo.mean(), color='b', linestyle='solid', linewidth=2)\n",
    "\n",
    "plt.axvline(distributiontwo.mean() + distributiontwo.std(), color='b', linestyle='dashed', linewidth=2)\n",
    "\n",
    "plt.axvline(distributiontwo.mean() - distributiontwo.std(), color='b', linestyle='dashed', linewidth=2)\n",
    "print(distributiontwo.mean())\n",
    "print(distributiontwo.std())\n",
    "plt.show()"
   ]
  },
  {
   "cell_type": "markdown",
   "metadata": {},
   "source": [
    "The mean and standard deviation for distributionone are listed above the graph. The data changes as we change the parameter of the distribution. The closer to 1 we go, the more balanced the histogram visualization will be. If the power is less than 1, data is skewed to the left; if the parameter is greater than 1, the data is skewed to the right."
   ]
  },
  {
   "cell_type": "code",
   "execution_count": 23,
   "metadata": {},
   "outputs": [
    {
     "name": "stdout",
     "output_type": "stream",
     "text": [
      "0.4935468367902107\n",
      "0.28435969800523037\n"
     ]
    },
    {
     "data": {
      "image/png": "[encoded data removed]",
      "text/plain": [
       "<Figure size 432x288 with 1 Axes>"
      ]
     },
     "metadata": {
      "needs_background": "light"
     },
     "output_type": "display_data"
    }
   ],
   "source": [
    "distributionthree = np.random.uniform(low=0.0, high=1.0, size=100)\n",
    "plt.hist(distributionthree, color='red')\n",
    "\n",
    "plt.axvline(distributionthree.mean(), color='b', linestyle='solid', linewidth=2)\n",
    "\n",
    "plt.axvline(distributionthree.mean() + distributionthree.std(), color='b', linestyle='dashed', linewidth=2)\n",
    "\n",
    "plt.axvline(distributionthree.mean() - distributionthree.std(), color='b', linestyle='dashed', linewidth=2)\n",
    "print(distributionthree.mean())\n",
    "print(distributionthree.std())\n",
    "plt.show()"
   ]
  },
  {
   "cell_type": "markdown",
   "metadata": {},
   "source": [
    "The descriptive statistics did not provide useful information about the variable. This just says that any value within 0 and 1 will be drawn uniformly."
   ]
  },
  {
   "cell_type": "code",
   "execution_count": 29,
   "metadata": {},
   "outputs": [
    {
     "name": "stdout",
     "output_type": "stream",
     "text": [
      "0.5299374090228739\n",
      "1.216948718492913\n"
     ]
    },
    {
     "data": {
      "image/png": "[encoded data removed]",
      "text/plain": [
       "<Figure size 432x288 with 1 Axes>"
      ]
     },
     "metadata": {
      "needs_background": "light"
     },
     "output_type": "display_data"
    }
   ],
   "source": [
    "distributionfour = np.random.gumbel(loc=0.0, scale=1.0, size=100)\n",
    "plt.hist(distributionfour, color='purple')\n",
    "\n",
    "plt.axvline(distributionfour.mean(), color='b', linestyle='solid', linewidth=2)\n",
    "\n",
    "plt.axvline(distributionfour.mean() + distributionfour.std(), color='b', linestyle='dashed', linewidth=2)\n",
    "\n",
    "plt.axvline(distributionfour.mean() - distributionfour.std(), color='b', linestyle='dashed', linewidth=2)\n",
    "print(distributionfour.mean())\n",
    "print(distributionfour.std())\n",
    "plt.show()"
   ]
  },
  {
   "cell_type": "code",
   "execution_count": 43,
   "metadata": {},
   "outputs": [
    {
     "name": "stdout",
     "output_type": "stream",
     "text": [
      "0.1767711389613352\n",
      "0.12079814243920448\n"
     ]
    },
    {
     "data": {
      "image/png": "[encoded data removed]",
      "text/plain": [
       "<Figure size 432x288 with 1 Axes>"
      ]
     },
     "metadata": {
      "needs_background": "light"
     },
     "output_type": "display_data"
    }
   ],
   "source": [
    "distributionfive = np.random.beta(2, 10, size=100)\n",
    "plt.hist(distributionfive, color='black')\n",
    "\n",
    "plt.axvline(distributionfive.mean(), color='b', linestyle='solid', linewidth=2)\n",
    "\n",
    "plt.axvline(distributionfive.mean() + distributionfive.std(), color='b', linestyle='dashed', linewidth=2)\n",
    "\n",
    "plt.axvline(distributionfive.mean() - distributionfive.std(), color='b', linestyle='dashed', linewidth=2)\n",
    "print(distributionfive.mean())\n",
    "print(distributionfive.std())\n",
    "plt.show()"
   ]
  },
  {
   "cell_type": "code",
   "execution_count": 54,
   "metadata": {},
   "outputs": [
    {
     "name": "stdout",
     "output_type": "stream",
     "text": [
      "4.88\n",
      "2.5110953785151215\n"
     ]
    },
    {
     "data": {
      "image/png": "[encoded data removed]",
      "text/plain": [
       "<Figure size 432x288 with 1 Axes>"
      ]
     },
     "metadata": {
      "needs_background": "light"
     },
     "output_type": "display_data"
    }
   ],
   "source": [
    "distributionsix = np.random.poisson(5, size=100)\n",
    "plt.hist(distributionsix, color='gray')\n",
    "\n",
    "plt.axvline(distributionsix.mean(), color='b', linestyle='solid', linewidth=2)\n",
    "\n",
    "plt.axvline(distributionsix.mean() + distributionsix.std(), color='b', linestyle='dashed', linewidth=2)\n",
    "\n",
    "plt.axvline(distributionsix.mean() - distributionsix.std(), color='b', linestyle='dashed', linewidth=2)\n",
    "print(distributionsix.mean())\n",
    "print(distributionsix.std())\n",
    "plt.show()"
   ]
  },
  {
   "cell_type": "markdown",
   "metadata": {},
   "source": [
    "Distributions two and three very similar mean and standard deviation calculations. Those are the power and uniform distributions."
   ]
  },
  {
   "cell_type": "code",
   "execution_count": 64,
   "metadata": {},
   "outputs": [
    {
     "name": "stdout",
     "output_type": "stream",
     "text": [
      "4.967371526919969\n",
      "0.48183398348203665\n",
      "9.949172846627867\n",
      "1.0140482029181155\n"
     ]
    }
   ],
   "source": [
    "a = np.random.normal(5, 0.5, 100)\n",
    "b = np.random.normal(10, 1, 100)\n",
    "c = a + b\n",
    "print(a.mean())\n",
    "print(a.std())\n",
    "print(b.mean())\n",
    "print(b.std())"
   ]
  },
  {
   "cell_type": "code",
   "execution_count": 65,
   "metadata": {
    "scrolled": true
   },
   "outputs": [
    {
     "name": "stdout",
     "output_type": "stream",
     "text": [
      "14.91654437354784\n",
      "1.135785885292734\n"
     ]
    },
    {
     "data": {
      "image/png": "[encoded data removed]",
      "text/plain": [
       "<Figure size 432x288 with 1 Axes>"
      ]
     },
     "metadata": {
      "needs_background": "light"
     },
     "output_type": "display_data"
    }
   ],
   "source": [
    "plt.hist(c)\n",
    "\n",
    "plt.axvline(c.mean(), color='b', linestyle='solid', linewidth=2)\n",
    "\n",
    "plt.axvline(c.mean() + c.std(), color='b', linestyle='dashed', linewidth=2)\n",
    "\n",
    "plt.axvline(c.mean() - c.std(), color='b', linestyle='dashed', linewidth=2)\n",
    "print(c.mean())\n",
    "print(c.std())\n",
    "plt.show()"
   ]
  },
  {
   "cell_type": "markdown",
   "metadata": {},
   "source": [
    "When we add the two normally-distributed variables together, the new variable's mean is equal to the sum of the original two means. The new standard deviation is calculated as the square root of the sum of the variances from the two normally-distributed variables."
   ]
  },
  {
   "cell_type": "code",
   "execution_count": null,
   "metadata": {},
   "outputs": [],
   "source": []
  }
 ],
 "metadata": {
  "kernelspec": {
   "display_name": "Python 3",
   "language": "python",
   "name": "python3"
  },
  "language_info": {
   "codemirror_mode": {
    "name": "ipython",
    "version": 3
   },
   "file_extension": ".py",
   "mimetype": "text/x-python",
   "name": "python",
   "nbconvert_exporter": "python",
   "pygments_lexer": "ipython3",
   "version": "3.7.1"
  }
 },
 "nbformat": 4,
 "nbformat_minor": 2
}

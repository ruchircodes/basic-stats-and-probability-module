{
 "cells": [
  {
   "cell_type": "code",
   "execution_count": 1,
   "metadata": {},
   "outputs": [
    {
     "data": {
      "text/plain": [
       "1.0334540197243192"
      ]
     },
     "execution_count": 1,
     "metadata": {},
     "output_type": "execute_result"
    }
   ],
   "source": [
    "#this is problem one\n",
    "import pandas as pd\n",
    "import matplotlib.pyplot as plt\n",
    "import numpy as np\n",
    "\n",
    "df = pd.DataFrame()\n",
    "\n",
    "df['age'] = [14, 12, 11, 10, 8, 6, 8]\n",
    "\n",
    "np.mean(df['age'])\n",
    "np.median(df['age'])\n",
    "\n",
    "import statistics\n",
    "statistics.mode(df['age'])\n",
    "\n",
    "df['age'].var()\n",
    "\n",
    "np.std(df['age'], ddof=1)\n",
    "\n",
    "np.std(df['age'], ddof=1)/np.sqrt(len(df['age']))"
   ]
  },
  {
   "cell_type": "code",
   "execution_count": 2,
   "metadata": {},
   "outputs": [
    {
     "data": {
      "text/plain": [
       "0.9511897312113418"
      ]
     },
     "execution_count": 2,
     "metadata": {},
     "output_type": "execute_result"
    }
   ],
   "source": [
    "#this is problem three\n",
    "import pandas as pd\n",
    "import matplotlib.pyplot as plt\n",
    "import numpy as np\n",
    "\n",
    "df = pd.DataFrame()\n",
    "\n",
    "df['age'] = [14, 12, 11, 10, 8, 7, 8]\n",
    "\n",
    "np.mean(df['age'])\n",
    "np.median(df['age'])\n",
    "\n",
    "import statistics\n",
    "statistics.mode(df['age'])\n",
    "\n",
    "df['age'].var()\n",
    "\n",
    "np.std(df['age'], ddof=1)\n",
    "\n",
    "np.std(df['age'], ddof=1)/np.sqrt(len(df['age']))"
   ]
  },
  {
   "cell_type": "code",
   "execution_count": 15,
   "metadata": {},
   "outputs": [
    {
     "data": {
      "text/plain": [
       "1.6392299502912862"
      ]
     },
     "execution_count": 15,
     "metadata": {},
     "output_type": "execute_result"
    }
   ],
   "source": [
    "#this is problem four\n",
    "import pandas as pd\n",
    "import matplotlib.pyplot as plt\n",
    "import numpy as np\n",
    "\n",
    "df = pd.DataFrame()\n",
    "\n",
    "df['age'] = [14, 12, 11, 10, 1, 6, 8]\n",
    "\n",
    "np.mean(df['age'])\n",
    "np.median(df['age'])\n",
    "\n",
    "df['age'].var()\n",
    "\n",
    "np.std(df['age'], ddof=1)\n",
    "\n",
    "np.std(df['age'], ddof=1)/np.sqrt(len(df['age']))"
   ]
  },
  {
   "cell_type": "code",
   "execution_count": 21,
   "metadata": {},
   "outputs": [
    {
     "data": {
      "text/plain": [
       "0.03944933459514875"
      ]
     },
     "execution_count": 21,
     "metadata": {},
     "output_type": "execute_result"
    }
   ],
   "source": [
    "#this is problem five\n",
    "import pandas as pd\n",
    "import matplotlib.pyplot as plt\n",
    "import numpy as np\n",
    "\n",
    "df = pd.DataFrame()\n",
    "\n",
    "df['fans'] = [0.2, 0.23, 0.17, 0.05]\n",
    "np.mean(df['fans'])\n",
    "np.median(df['fans'])\n",
    "\n",
    "df['fans'].var()\n",
    "np.std(df['fans'], ddof=1)\n",
    "\n",
    "np.std(df['fans'], ddof=1)/np.sqrt(len(df['fans']))"
   ]
  },
  {
   "cell_type": "code",
   "execution_count": null,
   "metadata": {},
   "outputs": [],
   "source": []
  }
 ],
 "metadata": {
  "kernelspec": {
   "display_name": "Python 3",
   "language": "python",
   "name": "python3"
  },
  "language_info": {
   "codemirror_mode": {
    "name": "ipython",
    "version": 3
   },
   "file_extension": ".py",
   "mimetype": "text/x-python",
   "name": "python",
   "nbconvert_exporter": "python",
   "pygments_lexer": "ipython3",
   "version": "3.7.1"
  }
 },
 "nbformat": 4,
 "nbformat_minor": 2
}
